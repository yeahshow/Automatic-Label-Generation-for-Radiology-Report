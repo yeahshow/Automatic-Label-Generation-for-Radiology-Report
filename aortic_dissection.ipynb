{
 "cells": [
  {
   "cell_type": "code",
   "execution_count": 1,
   "metadata": {},
   "outputs": [],
   "source": [
    "file_name = 'nlp_aortic_dissection_ct.csv'"
   ]
  },
  {
   "cell_type": "code",
   "execution_count": 2,
   "metadata": {},
   "outputs": [],
   "source": [
    "import os\n",
    "import shutil\n",
    "from collections import Counter\n",
    "\n",
    "import pandas as pd\n",
    "\n",
    "from config import DATASTORE\n",
    "\n",
    "\n",
    "subset = pd.read_hdf(os.path.join(DATASTORE, 'store.h5'), '/femh_ct')\n",
    "subset = subset.fillna('')"
   ]
  },
  {
   "cell_type": "markdown",
   "metadata": {},
   "source": [
    "## Review 100 reports randomly selected from the subset"
   ]
  },
  {
   "cell_type": "raw",
   "metadata": {},
   "source": [
    "result = {}\n",
    "experience = dict()\n",
    "\n",
    "for i, (index, row) in enumerate(subset.sample(100).iterrows()):\n",
    "    if i < len(result):\n",
    "        continue\n",
    "    print('='*20, i + 1)\n",
    "    view = '\\n'.join(['>>FINDINGS:', \n",
    "                          str(row['FINDINGS']).replace('$', '\\n').strip(),\n",
    "                          '>>IMPRESSION:',\n",
    "                          str(row['IMPRESSIONS']).replace('$', '\\n').strip()])\n",
    "    if view in experience:\n",
    "        keyin = experience[view]\n",
    "    else:\n",
    "        print(view)\n",
    "        keyin = input('Positive or negative? [y/n]')\n",
    "        result[index] = keyin\n",
    "        experience[view] = keyin"
   ]
  },
  {
   "cell_type": "code",
   "execution_count": 3,
   "metadata": {},
   "outputs": [],
   "source": [
    "including_pattern = r'(?i)(aortic dissection|Stanford|debake)'\n",
    "excluding_pattern = r'(?i)no[^\\.]*(dissection|aneurysm)'"
   ]
  },
  {
   "cell_type": "code",
   "execution_count": 4,
   "metadata": {},
   "outputs": [
    {
     "name": "stderr",
     "output_type": "stream",
     "text": [
      "/Users/jeroyang/.local/share/virtualenvs/qrabbit-nlp-2666-b4E/lib/python3.6/site-packages/ipykernel_launcher.py:1: UserWarning: This pattern has match groups. To actually get the groups, use str.extract.\n",
      "  \"\"\"Entry point for launching an IPython kernel.\n"
     ]
    }
   ],
   "source": [
    "pos = subset[subset['IMPRESSIONS'].str.contains(including_pattern) & ~subset['IMPRESSIONS'].str.contains(excluding_pattern)]"
   ]
  },
  {
   "cell_type": "code",
   "execution_count": 5,
   "metadata": {},
   "outputs": [
    {
     "name": "stderr",
     "output_type": "stream",
     "text": [
      "/Users/jeroyang/.local/share/virtualenvs/qrabbit-nlp-2666-b4E/lib/python3.6/site-packages/ipykernel_launcher.py:1: UserWarning: This pattern has match groups. To actually get the groups, use str.extract.\n",
      "  \"\"\"Entry point for launching an IPython kernel.\n"
     ]
    }
   ],
   "source": [
    "neg = subset[subset['IMPRESSIONS'].str.contains(excluding_pattern)]"
   ]
  },
  {
   "cell_type": "code",
   "execution_count": 6,
   "metadata": {},
   "outputs": [
    {
     "name": "stdout",
     "output_type": "stream",
     "text": [
      "==================================================\n",
      "1. post-op change for aortic dissection.$2. residual aortic dissection from aortic arch to infrarenal abdominal aorta and proximal left common iliac artery with involvement of innominate trunk. bilateral CCA, proximal right subclavian artery.$3. patent bypass graft from left subclavian artery to distal left CCA.$4. mild pericardial thickening, suspected post-op change.\n",
      "==================================================\n",
      "Stationary status of the prior Stanford type B aortic dissection.\n",
      "==================================================\n",
      "1. Debakey type I DAA down to the right common iliac artery, s/p ascending aorta grafting. The orifice of IMA straddles the tear.$2. Right renal artery arises from false lumne, with relative delayed perfusion of right kidney. $3. Fatty liver change. Probably parenchymal liver disease with splenomegaly. $Advise clinical correlation.\n",
      "==================================================\n",
      "Dissecting aortic aneurysm Stanford type A s/p total aortic arch replacement , aortic stenting, and vascular grafts. Partial thrombosis of false lumen, smaller in size.$\n",
      "==================================================\n",
      "1. Dissecting aortic aneurysm (DAA), Stanford type A s/p OP.$2. A small dissecting aneurysm in the mid-portion of the SMA.\n",
      "==================================================\n",
      "> Status of DeBakey type I aortic dissection post ascending aorta & total arch replacement. $> Residual aortic dissection with intimal flap from proximal descending aorta to distal abdominal aorta extending to bilateral common iliac artery, right innominate artery & common carotid artery and bilateral subclavian artery. $> Progressive partial thrombosis of false lumen noted. $> The celiac trunk, SMA, right renal artery, IMA arise from false lumen. The left renal artery arises from true lumen.  All showed patency. $$\n",
      "==================================================\n",
      "* Post-subclcavian intimal dissection, extending into SMA, Lt renal artery and Rt distal common iliac artery (DeBakey IIIb / Stanford B). Subintimal space (false lumen) covering the Rt renal artery, IMA and Lt common iliac artery.$* Atrophic Lt kidney, probable segmental infarct sequela.\n",
      "==================================================\n",
      "1. DAA Stanford type A s/p operation. An intimal flap in desending aorta extending to right common and external iliac arteries.$2. Anterior superior tumor.  Ddx: Thymic tumor as thymoma or thymic carcinoma, lymphoma, abnormal lymph node.$\n",
      "==================================================\n",
      "> Presence of long segmental aortic dissection from distal aortic arch to terminal abdominal aorta noted.  (standford type B)$> The celiac trunk, SMA, IMA and R't renal artery derived from true lumen. $> L't renal artery derived from false lumen. $> A small thrombus at L't common iliac artery noted. $> Small amount L't pleural effusion with passive aatelectasia LLL noted. $$Suggest regular f/u. $\n",
      "==================================================\n",
      "> Stanford type B aortic dissection from left subclavian artery orifice level to left renal artery level. 4.1 cm in maximal diameter, slightly increased in size. Partial thrombosis at false lumen at distal end.$> A 3.2 cm early enhancing lesion in S8 of liver (Ser/Img: 3/48). Hemangioma was first considered. Suggest sonogram for further evaluation.$> Four ill-defined early enhancing lesions in both lobes of liver, differential diagnosis includes: AP-shunting, hemangioma.\n",
      "==================================================\n",
      "* Probable hypertensive or/and atherosclerotic cardiovascular disease.$* Intimal dissection from thoracic aorta proximal arch, extending to RICA root, Lt proximal subclavian artery, Lt common iliac artery root and Rt distal (prebifurcation) common iliac artery (DeBakey I + IIIb / Stanford A + B).$* Lt LCCA, Lt vertebral artery, SMA, Rt renal artery, Lt common iliac artery, Rt external and internal artery orifices in the true lumen. Celiac trunk, Lt renal artery and IMA orifices in the false lumen.$* Arch to upper abdominal aorta subintimal thick thrombus deposition. Atrophic Lt kidney, containing stones or/and vascular califications, upper pole renal infarct sequela.$* Non-specific lung findings.$* Heart surgery, metallic sternal wires retained.$* Gallbladder sludge sediment or sandy stones.\n",
      "==================================================\n",
      "1. Post-operative change for prior Stanford type A aortic dissection.$2. Residual dissection at abdominal aorta with involvement of celiac trunk and right common iliac artery.$3. Fatty liver.$4. Gall bladder stones.$5. Bilateral infrarenal IVC.\n",
      "==================================================\n",
      "> Dissecting aortic aneurysm, Stanford type A status post OP. Preserved perfusion of major intraabdominal solid and hollow organs.$> Focal aneurysmal dilatation of aortic root. \n",
      "==================================================\n",
      "Stanford type A/Debakey type II aortic dissection, with acute intramural hematoma formation in ascending aorta.$Suggest clinical correlation.\n",
      "==================================================\n",
      "1. Aortic dissection, DeBakey type III, the intimal flap extending to right iliac artery.$2. Enlarged descending aorta with 5 cm in diameter as compared with previous CT on 2012-11-23.$3. Still a small aneurysm formation in the proximal celiac trunk without significant interval change.$\n",
      "==================================================\n",
      "> A 3.1 * 2.3 cm soft tissue lesion in RLL of lung. Compatible with lung cancer. no obvious interval change.$> Multiple spiculated lesions in bilateral lungs. nature to be determined. no obvious interval change.$> Aortic dissection should be considered.$> Dilatation of ascending aorta, 4.2 * 4.0 cm in maximal diameter.\n",
      "==================================================\n",
      "1. Post-operative change for prior aortic dissection with residual dissecting aneurysm at innominate trunk, aortic archm descending thoracic and abdominal aorta.$2. CAD and atherosclerosis.$3. Gall bladder stones.$4. Old infarct of left kidney.\n",
      "==================================================\n",
      "1. Intramural hematoma from ascending aorta, downward extension to lower abdominal aorta and right brachiocephalic artery.$2. Abdominal aortic aneurysm at lower abdominal aorta and about 8.3 cm in length and 6.5 cm in width.$3. Moderate pericardial hematoma$4.* Focal contrast stasis in the false lumen at celiac trunk level, pending aortic dissection is favored. $\n",
      "==================================================\n",
      "1. Focal aortic dissection of descending aorta at T8-9 level (Stanford type B). $2. Atherosclerosis of aorta and coronary arteries.$3. Suspected focal stenosis of the orifice of celiac trunk.$4. RUL lung nodule. $5. Fatty liver change. $6. Spondylosis of spine. $Advise clinical correlation and evaluation.\n",
      "==================================================\n",
      "C$DAA, Stanford type A.$Previous valvular heart disease S/P- aortic valve replacement.\n",
      "==================================================\n",
      "1. Evidence of ascending aortic aneurysm(up to 6.3 cm in greatest dimension) with Stanford type A aortic dissection; in high suspicion of involvement of the aortic valve, advise clinical correlation with echocardiography. $2. Moderate amount of pericardial effusion. $3. CAD. $4. rule out chronic cholecystitis or adenomyomatosis.$5. Presence of periportal edema.$Advise clinical correlations.\n",
      "==================================================\n",
      "Long-segment intimal dissection form post-subclavian descending arota to bilateral common and Rt internal iliac artery. False lumen involving celiac trunk, SMA, Lt renal artery, IMA, Rt common and internal iliac arteries and entire Lt common iliac orifice. (DeBakey IIIb & Stanford B).\n",
      "==================================================\n",
      "1. Status post ascending aortic grafting with residual descending aortic dissection. Fair perfusion of solid organs and bowel loops.$2. Stationary pericardial effusion.\n",
      "==================================================\n",
      "> Stanford type A (Debakey type II) aorta dissection from aortic root to proximal aortic arch.$> The innominate artery, left common carotid artery and left subclavian artery originated from true lumen.$> A small nodular opacity in RUL (Ser/Img: 1019/29), nature to be determined, suggest follow up.\n",
      "==================================================\n",
      "> Acute aortic dissection, DeBakey type I S/P ascending aorta grafting. Mild partial thrombosis of false lumen over distal aortic arch. $> Some lymph nodes at mediastinum,  increased in size. Suggest regular follow up. $> Subsegmental atelectasia of RLL. $> For other details, please see descriptions above. $$Suggest regular follow up. $\n",
      "==================================================\n",
      "> DeBakey type I aortic dissection from aortic root to upper abdominal aorta, with extension to right innominate artery & celiac trunk. $Suspected occlusion of right CCA. $The right renal artery, IMA arise from true lumen. $The celiac trunk, SMA, left renal artery arise from false lumen. $> A 8-mm ground-glass opacity in left apical lung field, nature to be determined. $$Suggest clinical correlation and further management. \n",
      "==================================================\n",
      "> Ascending aortic aneurysm, about 10.2 cm in maximal axial diameter. $> Aortic dissection with intimal flap over the ascending aorta and aortic arch, not continuous. $$Suggest clinical correlation and further management.\n",
      "==================================================\n",
      "DAA Stanford type B, S/P- stent-graft deployment.$Endo-leak at aortic arch.\n",
      "==================================================\n",
      "s/p EVAR for aortic dissection with stationary residual DAA and arterial aneurysm of right common iliac artery & external iliac artery.\n",
      "==================================================\n",
      "> Status of adenoCa of lung, LUL, pT1aN0, post VATS LUL lobectomy. $Minimal fluid collection in left upper thorax. Maybe post-op change. $A 8-mm ground-glass opacity in RUL. Other tiny ground-glass opacities in RML. No obvious interval change. $Tiny nodule in left adrenal gland. R/O Adrenal adenoma. $> Left renal stones & U/3 ureteral stone with mild to moderate hydroureteronephrosis. $> Aortic dissection with intimal flap from celiac trunk level to distal abdominal aorta. No obvious interval change. $The celiac trunk. SMA, right renal artery arise from true lumen. $The left renal artery, IMA arise from false lumen. $$Suggest clinical correlation and follow up.\n",
      "==================================================\n",
      "* Aortic dissection, Stanford type A, S/P stent graft over aortic arch and upper thoracic aorta. No endoleakage is noted. Thrombosis of false lumen is also noted. $* Patent right brachiocephalic trunk, left CCA and SA. $* Residual aortic dissection over abdominal aorta to the left common iliac artery. Patent false lumen is noted. $* Dissection extend into celiac trunk and SMA. Both are patent. $* The right renal artery is patent from the true lumen; however, thrombosis of the left renal artery with left renal infarct and atrophy. $\n",
      "==================================================\n",
      "> Presence of aortic dissection with inlet at ascending aorta and aortic arch. The false lumen is thrombosed. The dissection extension to pericardium with large amount pericardiral hematoma is noted.\n",
      "==================================================\n",
      "> Stanford type B aortic dissection from aortic isthmus to the left internal iiliac artery. no interval change. $> Focal involvement of celiac trunk, SMA and L't renal artery. improved change. $$Suggest regular f/u. $$$$\n",
      "==================================================\n",
      "> post-operative change for prior Stanford type A aortic dissection, with patent graft and stent. No definite evidence of endoleak.$> Residual dissection at innominate artery and thoraco-abdominal junction and tortuous abdominal aorta. no obvious interval change.$> A 1.2 cm enhancing lesion in S8 of liver (Ser/Img: 3/51), DDx: hemangioma, HCC, AP-shunting. Suggest sonogram for further evaluation.\n",
      "==================================================\n",
      "> Dissecting aortic aneurysm, Stanford type A status post OP. $> Preserved perfusion of major intraabdominal solid and hollow organs.$> Preserved patency of aorta and its major branches. $> AP shunt at atrophic left lateral segment of liver favored. $> Moderate amount of bilateral pleural effusion causing partial collapse in bilateral lower lobes. $\n",
      "==================================================\n",
      "Compatible with Stanford type B aortic dissection, and the intima flap extends to the right common iliac artery.\n",
      "==================================================\n",
      "DAA Stanford type A, S/P- graft replacement of ascending aorta.$Persistent tear from aortic arch through the aorta and re-entering in the right common iliac artery.$Regional ischemic change at the anterior compartment of left kidney.\n",
      "==================================================\n",
      "1. Descending aortic dissection down to  abdominal aorta with left common iliac and external iliac arteries involvement.$2. Underlying atherosclerosis of aorta with stenosis at the orifice of left subclavian artery. Total occlusion at celiac trunk with collaterals from pancreaticoduodenal arcades of SMA.$3.  The left renal artery and IMA originated from the false lumen. Focal infarction of left kidney.\n",
      "==================================================\n",
      "1. Dissecting aortic aneurysm, Stanford type B with a residual sac in the distal aortic arch with mural thrombosis, without significant interval change. $2. Cardiomegaly. CAD.$3. Newly found right moderate pleural effusion and ascites.$4. Suspect cardiac cirrhosis, suggest correlation with clinical findings.\n",
      "==================================================\n",
      "* Probable hypertensive or/and atherosclerotic cardiovascular disease.$* Proximal descending thoracic aorta aneurysm excision post-OP status.$* Dissecting intimal flap present from proximal descending aorta to Rt external iliac artery (DeBakey IIIb / Stanford B ). Celiac trunk, SMA, LRA, IMA, Lt common iliac artery and Rt internal iliac artery orifices in the false lumen. RRA orifice in the true lumen.$* Probable Lt posterior upper-apical pleura post-OP fibrothorax change.$* Coarse bronchovascular markings. Otherwise, no specific lung findings.$* An aneurysm at aortoiliac junction with thick thrombus deposition.$* Atrophic both kidneys, containing many cysts. Enlarged prostate gland. Borderline splenic size.\n",
      "==================================================\n",
      "* Type A aortic dissection with involvement of ascending aorta, right common carotid artery, right subclavian artery, aortic arch, descending aorta and bilateral common iliac arteries.$   The celiac trunk, left renal artery and inferior mesenteric artery are from false lumen.$* Post-operative change with metallic wires at sternum.  S/P aortic valve replacement.$* Suspect a small cavernous hemangioma or perfusion anomaly in the S2 of the liver.$\n",
      "==================================================\n",
      "DAA Stanford type A S/P-stent-graft deployment.$Endoleak in descending aorta.$Partial infarction of right kidney.$Fatty liver.\n",
      "==================================================\n",
      "* Aortic dissection S/P stenting from aortic arch to infrarenal abdominal aorta and right renal artery.$   Regression of the false lumen in the thoracic aorta.$   Intimal flap still noted at the distal abdominal aorta and bilateral common iliac arteries. $* Hepatic cysts in the both hepatic lobes.$* Suspect thyroid goiter at the left thyroid lobe.  Recommand clinical correlation. $* Suspect post right hemicolectomy.  Recommand clinical correlation.\n",
      "==================================================\n",
      "1. s/p LUL lobectomy for prior lung cancer; no obvious local recurrent tumor. $2. many small ground-glass opacity at bilateral lung fields, esp RUL. no interval change. $3. post-operative change for prior Stanford type A aortic dissection. no interval change. $4. residual dissecting aneurysm at innominate trunk. $5. residual dissection at abdominal aorta.\n",
      "==================================================\n",
      "* Previous long intimal dissection from ascending aorta to Rt external iliac artery (Stanford A-I) (2011/04/26 CT series).$* Heal of ascending to upper thoracic descending segment. Subintimal thrombus deposition from mid-thoracic descending to infrarenal abdominal aorta. Still present intimal dissection from lower abdominal aorta to Rt external iliac artery. Celiac trunk, SMA, IMA and bilateral renal artery orifices in the true lumen.$* R/O RUL posterolateral lung (posterior segment) subpleural lung inflammatory granuolomata (TB, fungus, etc).\n",
      "==================================================\n",
      "1. Dissecting aortic aneurysm, Stanford type B with a residual sac in the distal aortic arch with mural thrombosis, stationary.$2. Cardiomegaly and coronary atherosclerosis. $3. Right renal calyceal stones without hydronephrosis.\n",
      "==================================================\n",
      "1. Aortic dissection, Stanford type A, with aneurysm at aortic root & ascending aorta.$2. extension of dissection into innominate, left common carotid & left subclavian arteries, and celiac trunk, left common iliac, external iliac & internal iliac arteries.$3. Mild pericardial and bilateral pleural effusion; no obvious hemopericardium and no obvious hemothorax.\n",
      "==================================================\n",
      "1. Stable condition of Stanford type A aortic dissection. $2. Cadiomegaly. $3. Status post sternotomy and cardiac surgery with aortic valve replacement.\n",
      "==================================================\n",
      "DAA Stanford type A, S/P- graft replacement of ascending aorta to arch.$Consolidation of both lower lobes of lungs and bilateral pleural effusion.$Multiple uterine myomas.\n",
      "==================================================\n",
      "1. prior Stanford type A aortic dissection s/p grafting at ascending aorta.$2. residual and stationary dissecting aneurysm at distal aortic arch.$3. stationary dissecting aneurysm ay proximal SMA.$4. A small nodule at RLL is noted. It seems slightly  increased in size. suggest further evaluation. \n"
     ]
    }
   ],
   "source": [
    "samples = pos.sample(50)\n",
    "for row in samples['IMPRESSIONS']:\n",
    "    print('='*50)\n",
    "    print(row)"
   ]
  },
  {
   "cell_type": "code",
   "execution_count": 7,
   "metadata": {},
   "outputs": [],
   "source": [
    "label = pd.concat([pos.assign(label=1)[['label']], neg.assign(label=0)[['label']]])"
   ]
  },
  {
   "cell_type": "code",
   "execution_count": 8,
   "metadata": {},
   "outputs": [
    {
     "name": "stdout",
     "output_type": "stream",
     "text": [
      "正樣本:1269, 負樣本:2083\n"
     ]
    }
   ],
   "source": [
    "stats = Counter(label['label'])\n",
    "print('正樣本:{}, 負樣本:{}'.format(stats[1.0], stats[0.0]))"
   ]
  },
  {
   "cell_type": "code",
   "execution_count": 9,
   "metadata": {},
   "outputs": [],
   "source": [
    "label.to_csv(os.path.join('data', file_name))"
   ]
  },
  {
   "cell_type": "code",
   "execution_count": null,
   "metadata": {},
   "outputs": [],
   "source": []
  }
 ],
 "metadata": {
  "kernelspec": {
   "display_name": "Python 3",
   "language": "python",
   "name": "python3"
  },
  "language_info": {
   "codemirror_mode": {
    "name": "ipython",
    "version": 3
   },
   "file_extension": ".py",
   "mimetype": "text/x-python",
   "name": "python",
   "nbconvert_exporter": "python",
   "pygments_lexer": "ipython3",
   "version": "3.6.1"
  }
 },
 "nbformat": 4,
 "nbformat_minor": 2
}
