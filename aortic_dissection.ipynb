{
 "cells": [
  {
   "cell_type": "code",
   "execution_count": 1,
   "metadata": {},
   "outputs": [],
   "source": [
    "file_name = 'nlp_dissection_ct.csv'"
   ]
  },
  {
   "cell_type": "code",
   "execution_count": 2,
   "metadata": {},
   "outputs": [],
   "source": [
    "import os\n",
    "import shutil\n",
    "from collections import Counter\n",
    "\n",
    "import pandas as pd\n",
    "\n",
    "from config import DATASTORE\n",
    "\n",
    "\n",
    "subset = pd.read_hdf(os.path.join(DATASTORE, 'store.h5'), '/femh_ct')\n",
    "subset = subset.fillna('')"
   ]
  },
  {
   "cell_type": "markdown",
   "metadata": {},
   "source": [
    "## Review 100 reports randomly selected from the subset"
   ]
  },
  {
   "cell_type": "raw",
   "metadata": {},
   "source": [
    "result = {}\n",
    "experience = dict()\n",
    "\n",
    "for i, (index, row) in enumerate(subset.sample(100).iterrows()):\n",
    "    if i < len(result):\n",
    "        continue\n",
    "    print('='*20, i + 1)\n",
    "    view = '\\n'.join(['>>FINDINGS:', \n",
    "                          str(row['FINDINGS']).replace('$', '\\n').strip(),\n",
    "                          '>>IMPRESSION:',\n",
    "                          str(row['IMPRESSIONS']).replace('$', '\\n').strip()])\n",
    "    if view in experience:\n",
    "        keyin = experience[view]\n",
    "    else:\n",
    "        print(view)\n",
    "        keyin = input('Positive or negative? [y/n]')\n",
    "        result[index] = keyin\n",
    "        experience[view] = keyin"
   ]
  },
  {
   "cell_type": "code",
   "execution_count": 3,
   "metadata": {},
   "outputs": [],
   "source": [
    "including_pattern = r'(?i)(aortic dissection|Stanford|debake)'\n",
    "excluding_pattern = r'(?i)no[^\\.]*aortic[^\\.]*dissection'"
   ]
  },
  {
   "cell_type": "code",
   "execution_count": 4,
   "metadata": {},
   "outputs": [
    {
     "name": "stderr",
     "output_type": "stream",
     "text": [
      "/Users/jeroyang/.local/share/virtualenvs/qrabbit-nlp-2666-b4E/lib/python3.6/site-packages/ipykernel_launcher.py:1: UserWarning: This pattern has match groups. To actually get the groups, use str.extract.\n",
      "  \"\"\"Entry point for launching an IPython kernel.\n"
     ]
    }
   ],
   "source": [
    "pos = subset[subset['IMPRESSIONS'].str.contains(including_pattern) & ~subset['IMPRESSIONS'].str.contains(excluding_pattern)]"
   ]
  },
  {
   "cell_type": "code",
   "execution_count": 5,
   "metadata": {},
   "outputs": [],
   "source": [
    "neg = subset[subset['IMPRESSIONS'].str.contains(excluding_pattern)]"
   ]
  },
  {
   "cell_type": "code",
   "execution_count": 6,
   "metadata": {},
   "outputs": [
    {
     "name": "stdout",
     "output_type": "stream",
     "text": [
      "==================================================\n",
      "(1) Compatible with DeBakey I aortic dissection post aortic artery replacement with residual dissecting flap in the descending aorta.$(2) Bilateral CCAs and ICAs are patent.\n",
      "==================================================\n",
      "DAA Stanford type B.  $Atherosclerosis; Coronary heart disease.$Slightly decreased flow to the the left kidney with minimal cortical thinning.\n",
      "==================================================\n",
      "* Post-subclavian intimal dissection extending to Lt proximal common femoral artery (DeBakey IIIb / Stanford B). Lt renal and inferior mesenteric arteries in the false lumen.$* Graft stent retained from arch mid-descending thoracic aorta. Thick subintimal thrombus from arch to suprarenal abdominal aorta.$* Preserved both lung clearness.$* Lt kidney minimal perfusion impairment.\n",
      "==================================================\n",
      "DAA Stanford type A, S/P- stent-graft deployment from upper ascending aorta to descending aorta and also chimney grafts to left common carotid and the left subclavian artery.$Also S/P- stent-graft deployment in left common iliac artery to the external iliac artery.$Fatty liver.\n",
      "==================================================\n",
      "> Dissecting aortic aneurysm, Stanford type A. $> Infarction at lower pole of right kidney. $> A hepatic hemangioma at S7.$> Gallstones.$> Left renal calyceal stones. \n",
      "==================================================\n",
      "Statue of aortic dissection, type B, post stent placement. $No active lung lesion. $Tiny gallstones. $$Suggest clinical correlation and follow up.\n",
      "==================================================\n",
      "DAA Stanford type A.$R/O coronary heart disease.\n",
      "==================================================\n",
      "> Post-operative change for prior Stanford type A aortic dissection with stationary residual enhanced false lumen at descending thoracic and abdominal aorta and extends into celiac trunk.$> CAD.$> Fatty liver.$\n",
      "==================================================\n",
      "DAA Stanford type A.  S/P- stent-graft deployment in descending aorta.$Persistent tear from arch to the left iliac artery with 2 focal aneurysmal dilatation.$Incidental tumor in right adrenal gland.  R/O myelolipoma.  Advise MRI correlation..$A small hypervascular dot in right hepatic lobe.  R/O hemangioma.  Advise MRI correlation..\n",
      "==================================================\n",
      "(1) DeBakey type III or Stanford type B aortic dissection to infrarenal $abdominal aorta.$(2) Partial thrombosis of the false lumen and SMA arising from the false lumen is noted.$(3) Multiple gallstones.\n",
      "==================================================\n",
      "1. Intramural hematoma, Stanford type B.  $2. Some small focal contrast extravasation in intramural hematoma, at level of aortic arch, subcarinal level, LA level and around E-G junction level, aortic dissection is suspected.$3. Fibrotic lesion and subsegmental atelectasis at LLL.$\n",
      "==================================================\n",
      "1. Suspected chronic IMH or thrombosed aortic dissection at aortic arch and proximal abdominal aorta.$2. Left inguinal herniaiton.$3. Suspected thyroid goiter. Suggest correlation with ultrasound findings.\n",
      "==================================================\n",
      "1. No interval change of disssecting aortic aneurysm (Stanford type A) S/P placement of stent graft at the ascending aorta. $\n",
      "==================================================\n",
      "> Stanford type B aortic dissection from distal aortic arch to celiac trunk orifice, with well-enhancement in false lumen except thrombosis at the most proximal portion.$> A fusiform abdominal aortic aneurysm at upper abdominal aorta, 6.2 * 5.8 cm in maximal diameter, about 15 cm in length.$> A fusiform abdominal aortic aneurysm at lower aspect of abdominal aorta to bilateral common or external iliac arteries, 6.9 * 5.9 cm in maximal diameter, about 16 cm in length.$> Thick mural thrombus noted at aneurysm, covering the orifice of bilateral renal arteries and inferior mesenteric artery, leaving a small tunnel connecting to these arteries. Visible contrast medium enhancement of these arteries noted. Non-opacification of bilateral IIAs.$> Small amount of ascites in pelvis.$> Fracture of left 8th to 11th ribs.$> Small amount of left side pleural effusion. Partial passive atelectasis of LLL of lung. Lesion may be concealed. Suggest follow up.\n",
      "==================================================\n",
      "> Five solid nodules in bilateral lungs, the largest one measured 3.4 mm. No obvious interval change.$> Calcifications in aortic valve, coronary vessels and aorta.$> Aortic dissection. No obvious interval change in size.$> Fatty infiltration of liver.$\n",
      "==================================================\n",
      "DAA, Stanford type A, S/P operation, status stationary. \n",
      "==================================================\n",
      "post-operative change with stationary residual aortic dissection.$multiple gall bladder stones.$$\n",
      "==================================================\n",
      "$> Presence of aortic dissection from aortic arch (L't CCA orifice) to thoracic aorta (SMA root level). $> Thrombosis of proximal L't CCA and Subclavian artery noted. $> Celiac trunk and L't renal artery derived from false lumen. $> R't renal artery derived from true lumen. $> Dissection into proximal SMA also noted. $> S/P aortic valve replacement.\n",
      "==================================================\n",
      "(B) $* Hypertensive or/and atherosclerotic cardiovascular disease. Thoracic descending arota dissection (DeBakey-IIIa / Stanford-B). Post-arcual and mid-descending segment saccular dilatation and aneurysm formation. Around 4.7 ~ 4.9 of diameter at mid-descending segment aneurysm.$* Periaortic subpleural lung minimal infiltrate or consolidation.$* RLL superior segment lung inflammatory change sequela, lung cyst formation.$* Liver cirrhosis. Splenomegaly.$* Rt anterior liver (S-VIII/IV) HCC never to be excluded [Se 3 Im 52 & 53; Se 400 Im 17 & 18]. DDx AP shunt with reflux enhancement. Clinically correlate, please.$* A large liver cyst at Rt superoposterior liver (S-VII/VIII). Gallbladder stones present.$* Lobulated both kidneys. Renal cysts, also calcified cysts present.$* Enlarged prostate gland with a mass protruding into urinary bladder.$* Lt lower posterior pelvic cavity presacral region mass lesion. DDx primary neoplasm of undetermined nature vs metastatic lymphadenopathy (e.g. from prostate cancer). Clinically correlate, please.\n",
      "==================================================\n",
      "> Stanford type B aortic dissection S/P stent graft. Residual false lumen below left renal artery is still noted. $> Celiac trunk, SMA, IMA and bilateral renal arteries are patent. \n",
      "==================================================\n",
      "> post-operative change for prior aortic dissection.$> stationary status of the patent false lumen at distal descending thoracic and abdominal aorta with extension into left iliac bifurcation.$> Increased hematoma surrounding thoracic aorta. Progression of dissection or aortic wall tear should be considered. Suggest clinical correlation and further management. \n",
      "==================================================\n",
      "Aortic dissection, Stanford type A, with suspected hemopericardium.\n",
      "==================================================\n",
      "1. Stanford type A aortic dissection, S/P- subsegmental atelectalsis in ascending aorta.  Residual false lumen from arch down to the common iliac arteries.$2. S/p CABG.   Cardiomegaly, more enlarged in the left cardialc chamber.$3. Subsegmental atelectasis and inflammatory change in the left lower lobe. \n",
      "==================================================\n",
      "* Probable hypertensive or/and atherosclerotic cardiovascular disease.$* Proximal descending thoracic aorta aneurysm excision post-OP status.$* Dissecting intimal flap present from proximal descending aorta to Rt external iliac artery (DeBakey IIIb / Stanford B ). Celiac trunk, SMA, LRA, IMA, Lt common iliac artery and Rt internal iliac artery orifices in the false lumen. RRA orifice in the true lumen.$* Probable Lt posterior upper-apical pleura post-OP fibrothorax change.$* Coarse bronchovascular markings. Otherwise, no specific lung findings.$* An aneurysm at aortoiliac junction with thick thrombus deposition.$* Atrophic both kidneys, containing many cysts. Enlarged prostate gland. Borderline splenic size.\n",
      "==================================================\n",
      "* Cardiomegaly. DDx calcified Rt coronary artery vs. angioplastic stent retained. Even both present.$* Post-subclavian descending aorta intimal dissection (DeBakey IIIa, Stanford B ), extending to iliac bifurcation.$* Lt renal artery root in the false lumen with hypoenhanced parenchyma. Impaired blood perfusion.$* Infrarenal-suprailiac subintimal thrombus formation.$* L4-5-S1 surgery and fixation, metallic implants retained.\n",
      "==================================================\n",
      "Stanford type B, DeBakey type III aortic dissection. S/P stent grafting and aortic fenestration. Partial thrombosis of the false lumen. Status stationary in gerneral.\n",
      "==================================================\n",
      "> Dissecting aortic aneurysm, Stanford type B with hyperdense false lumen in descending aorta with extention to renal level, causing moderate stenosis of true lumen.$> Moderate left pneumothorax.$> Small amount of right hemothorax.$> Subsegmental alveolar infiltrates in RUL. Suspected mild inflammatory/infectious process.$> Old pulmonary tuberculosis sequelae in LUL favored.$> Recent and old fracture in bilateral 2nd to 7th ribs.$> Old compression fracture in L1.$> Status post right nephrectomy. $> Regional wall thickening at anterior wall. Suggest further evaluation with cystoscopy or ultrasound to exclude neoplasm if clinically indicated. \n",
      "==================================================\n",
      "Stanford type B aortic dissection from the proximal descending aorta to the abdominal aorta and the left common iliac artery with partial thrombosis of the false lumen in the left aortic arch to the T11 level thoracic aorta. Slighlty enlarged diameter of the infrarenal abdominal aorta is found at the IMA level.\n",
      "==================================================\n",
      "> Aortic dissection with intimal flap from distal aortic arch to distal abdominal aorta, extending to right common iliac artery. $The celiac trunk, SMA, bilateral renal arteries, IMA arise from true lumen.$> Right upper-third ureteral stone with moderate hydroureteronephrosis. \n",
      "==================================================\n",
      "1. DeBakey type I aortic disseciton from aortic root to the infrarenal abdominal aorta. Involved right bracheocephalic trunk. Partial thombosis noted as aforementioned.$2. One of left renal aretries derived from the false lumen.$3. Several mediastinal LAPs.$$Suggest clinical correlation and follow up.\n",
      "==================================================\n",
      "DAA Stanford type A,   s/p Total arch grafting replacement and 2 grafts to supply the innominate as well as the left common carotid arteries.  No endo-leak.  The grafts are patent.$Faint opacification of the IMH in low thoracic level, possibly through small branches from aorta.$\n",
      "==================================================\n",
      "DAA Stanford type B S/P- stent-graft deployment from arch down to aortic bifurcation.  $Chimney grafts from proximal segment of the stent to supply the left CCA and Left SCA with good distal run-off.$Also stent-graft deployed in left common iliac artery and down to the external iliac artery with good distal run-off.\n",
      "==================================================\n",
      "(1) Compatible with Stanford type A aortic dissection post grafting appearance, stationary.$(2) Marked atrophy of the left kidney with suspected occlusion of the left renal artery.\n",
      "==================================================\n",
      "1. Stanford type B aortic dissection or intramural hematoma at descending thoracic and abdominal aorta.$2. Dissection involvement of SMA trunk and stenosis of celiac trunk.$3. CAD and atherosclerosis.$4. Tiny bilateral renal stones.\n",
      "==================================================\n",
      "1. Dissecting aortic aneurysm (Stanford type B) with gradual thrombosis of its proximal false lumen and intimal dissection into the superior mesenteric artery and the distal abdominal aorta. $2. Atherosclerosis of aorta. $3. A left renal corticl cyst. $\n",
      "==================================================\n",
      "DAA Stanford type A.  S/P Bentall's operation and aortic valve replacement.$Suspicious renal functional impairment with chronic  VU reflux.$A new target lesion in hepatic dome; suspicious of a metastatic tumor.$Over-distension of urinary bladder.  R/O neurogenic urinary bladder with chronic VU reflux and mild bilateral hydronephrosis.\n",
      "==================================================\n",
      "DAA DeBakey III, S/P- stent-graft deployment in arch to descending aorta.$Endo-leak probably occurs in the upper and lower anchore points.\n",
      "==================================================\n",
      "1. Aortic dissection from ascending aorta to bilateral common iliac arteries, s/p repair of aortic root and ascending aorta, with residual intima flap from aortic arch to bilateral bilateral common iliac arteries, involving left common carotid artery, dissecting aneurysm at aortic arch.$2. Partial thrombosis of the false lumen at the descending aorta. The maximal diameter decreased to 5.4 cm. \n",
      "==================================================\n",
      "> Aorta dissection (DeBakey IIIa / Stanford B) with stenting graft implanted from proximal arch to mid-descending segment. Also right brachiocephalic trunk, left CCA and Lt subclavian artery stenting. $> False lumen of aorta is thrombosed. $> No pulmonary embolis is noted, however, engorgement of pulmonary trunk is noted. nature to be determined. Suggest clinical correlation. $> S/p sternotomy with surgical wires retention over sternum noted. A 4cm thick wall cystic lesion at right sternoclavicular joint, D/Dx: abscess or hematoma. Suggest clinical correlation. $> Left moderate amount pleural effusion with passive atelectasia of LLL. $> Hepatosplenomegaly, probable congestive status.\n",
      "==================================================\n",
      "1. Dissecting aortic aneurysm Stanford type A, s/p total aortic arch replacement, ascending aorta graft and aortic valve replacement. No imaging evidence of endoleak.$2. Cardiomegaly. Mild bilateral pleural effusion.$3. Gallstones.$\n",
      "==================================================\n",
      "Stanford type A dissection, S/P- Bentall's operation.  No evidence of endoleak nor dissection.\n",
      "==================================================\n",
      "1. Dissecting aortic aneurysm, Stanford type A, with IMH in ascending aorta, s/p stenting. Endoleak at proximal aortic arch ; stationary of IMH in ascending aorta and massive hemopericardium.$2. Small bilateral pleural effusion, decreased in amount on the left side.$3. Partial collapse in LLL lung.$4. Cardiomegaly. $\n",
      "==================================================\n",
      "> Status of type I aortic dissection post ascending aortic replacement. $Residual aortic dissection with intimal flap & intramural hematoma from proximal descending aorta to distal abdominal aorta, extending to SMA. No obvious interval change. $The celiac trunk arises from false lumen. $Bilateral renal arteries, IMA arise from true lumen. $> No active lung lesion. $$No significant interval change compared to last CT study. $Suggest clinical correlation and follow up.\n",
      "==================================================\n",
      "> R/O Status post ascending aortic replacement. Residual aortic dissection with intimal flap from proximal aortic arch to distal abdominal aorta, extending to left CCA & right common iliac artery. Aneurysmal dilatation of aorta from proximal aortic arch to upper abdominal aorta. No obvious interval change compared to last CT scan. $The celiac trunk, SMA, bilateral renal arteries, IMA arise from true lumen. $> Status post cholecystectomy. Mild biliary tree dilatation. \n",
      "==================================================\n",
      "DAA Stanford type A; S/P- stent-graft deployment in aorta and through-stent grafts to the inominate and left renal arteries.  These stens are patent.$Endoleak from the proximal and distal anchore points into the false lumen.$Focal splenic infarction.$Marked enlargement of prostate.  R/O malignant change.  Advise MRI correlation..\n",
      "==================================================\n",
      "1. Status post ascending aortic grafting with residual descending aortic dissection. Fair perfusion of solid organs and bowel loops.$2. Stationary pericardial effusion.\n",
      "==================================================\n",
      "Stanford type B aotic dissection with slightly enlarged lument of the descending thoracic aorta with an intimal flap from the distal tortuous descending thoracic aorta to the right common iliac artery.\n",
      "==================================================\n",
      "1. Type 1 aortic dissection down to left internal iliac arety.  s/p grafting of the major branches at aortic arch.  $2. Right common carotid artery dissection. $3. Bilateral mild pleural effusion with partial bilateral lower lung collapse.\n",
      "==================================================\n",
      "(1) DAA Stanford's type A post ascending aortic grafting without recurrence. $(2) Residual descending aortic dissection with fenestrated false lumen and partial thrombosis. No significant interval change in appearance.$(3) Several small old infarcts in left kidney.\n",
      "==================================================\n",
      "DAA Stanford type A, S/P- stent-graft deployment at ascending aorta and vascular graft to the 3 major neck vessels.$Eccentrical atheromatous ulcer at the upper abdominal aorta.\n"
     ]
    }
   ],
   "source": [
    "samples = pos.sample(50)\n",
    "for row in samples['IMPRESSIONS']:\n",
    "    print('='*50)\n",
    "    print(row)"
   ]
  },
  {
   "cell_type": "code",
   "execution_count": 7,
   "metadata": {},
   "outputs": [],
   "source": [
    "label = pd.concat([pos.assign(label=1)[['label']], neg.assign(label=0)[['label']]])"
   ]
  },
  {
   "cell_type": "code",
   "execution_count": 8,
   "metadata": {},
   "outputs": [
    {
     "name": "stdout",
     "output_type": "stream",
     "text": [
      "正樣本:1297, 負樣本:1783\n"
     ]
    }
   ],
   "source": [
    "stats = Counter(label['label'])\n",
    "print('正樣本:{}, 負樣本:{}'.format(stats[1.0], stats[0.0]))"
   ]
  },
  {
   "cell_type": "code",
   "execution_count": 9,
   "metadata": {},
   "outputs": [],
   "source": [
    "label.to_csv(os.path.join('data', file_name))"
   ]
  },
  {
   "cell_type": "code",
   "execution_count": null,
   "metadata": {},
   "outputs": [],
   "source": []
  }
 ],
 "metadata": {
  "kernelspec": {
   "display_name": "Python 3",
   "language": "python",
   "name": "python3"
  },
  "language_info": {
   "codemirror_mode": {
    "name": "ipython",
    "version": 3
   },
   "file_extension": ".py",
   "mimetype": "text/x-python",
   "name": "python",
   "nbconvert_exporter": "python",
   "pygments_lexer": "ipython3",
   "version": "3.6.1"
  }
 },
 "nbformat": 4,
 "nbformat_minor": 2
}
