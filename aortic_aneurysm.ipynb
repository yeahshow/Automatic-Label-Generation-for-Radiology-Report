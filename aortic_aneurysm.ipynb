{
 "cells": [
  {
   "cell_type": "code",
   "execution_count": 1,
   "metadata": {},
   "outputs": [],
   "source": [
    "file_name = 'nlp_aortic_aneurysm_ct.csv'"
   ]
  },
  {
   "cell_type": "code",
   "execution_count": 2,
   "metadata": {},
   "outputs": [],
   "source": [
    "import os\n",
    "import shutil\n",
    "from collections import Counter\n",
    "\n",
    "import pandas as pd\n",
    "\n",
    "from config import DATASTORE\n",
    "\n",
    "subset = pd.read_hdf(os.path.join(DATASTORE, 'store.h5'), '/femh_ct')\n",
    "subset = subset.fillna('')"
   ]
  },
  {
   "cell_type": "markdown",
   "metadata": {},
   "source": [
    "## Review 100 reports randomly selected from the subset"
   ]
  },
  {
   "cell_type": "raw",
   "metadata": {},
   "source": [
    "sample = subset[subset['IMPRESSIONS'].str.contains('aneurysm')].sample(100)\n",
    "\n",
    "result = {}\n",
    "experience = dict()\n",
    "\n",
    "for i, (index, row) in enumerate(sample.iterrows()):\n",
    "    if i < len(result):\n",
    "        continue\n",
    "    print('='*20, i + 1)\n",
    "    view = '\\n'.join(['>>FINDINGS:', \n",
    "                          str(row['FINDINGS']).replace('$', '\\n').strip(),\n",
    "                          '>>IMPRESSION:',\n",
    "                          str(row['IMPRESSIONS']).replace('$', '\\n').strip()])\n",
    "    if view in experience:\n",
    "        keyin = experience[view]\n",
    "    else:\n",
    "        print(view)\n",
    "        keyin = input('Positive or negative? [y/n]')\n",
    "        result[index] = keyin\n",
    "        experience[view] = keyin"
   ]
  },
  {
   "cell_type": "code",
   "execution_count": 3,
   "metadata": {},
   "outputs": [],
   "source": [
    "including_pattern = r'(?i)(aort(ic|a)[^\\.]*?aneurysm|aneurysm[^\\.]*?aort(ic|a))'\n",
    "excluding_pattern = r'(?i)no[^\\.]*(dissection|aneurysm)'\n",
    "excluding_pattern2 = r'(?i)(abdominal[^\\.]*aneurysm|dissect)'"
   ]
  },
  {
   "cell_type": "code",
   "execution_count": 4,
   "metadata": {},
   "outputs": [
    {
     "name": "stderr",
     "output_type": "stream",
     "text": [
      "/Users/jeroyang/.local/share/virtualenvs/qrabbit-nlp-2666-b4E/lib/python3.6/site-packages/ipykernel_launcher.py:2: UserWarning: This pattern has match groups. To actually get the groups, use str.extract.\n",
      "  \n",
      "/Users/jeroyang/.local/share/virtualenvs/qrabbit-nlp-2666-b4E/lib/python3.6/site-packages/ipykernel_launcher.py:3: UserWarning: This pattern has match groups. To actually get the groups, use str.extract.\n",
      "  This is separate from the ipykernel package so we can avoid doing imports until\n"
     ]
    }
   ],
   "source": [
    "pos = subset[subset['IMPRESSIONS'].str.contains(including_pattern) & \n",
    "                  ~subset['IMPRESSIONS'].str.contains(excluding_pattern) &\n",
    "                  ~subset['IMPRESSIONS'].str.contains(excluding_pattern2)]"
   ]
  },
  {
   "cell_type": "code",
   "execution_count": 5,
   "metadata": {},
   "outputs": [
    {
     "name": "stderr",
     "output_type": "stream",
     "text": [
      "/Users/jeroyang/.local/share/virtualenvs/qrabbit-nlp-2666-b4E/lib/python3.6/site-packages/ipykernel_launcher.py:1: UserWarning: This pattern has match groups. To actually get the groups, use str.extract.\n",
      "  \"\"\"Entry point for launching an IPython kernel.\n"
     ]
    }
   ],
   "source": [
    "neg = subset[subset['IMPRESSIONS'].str.contains(excluding_pattern)]"
   ]
  },
  {
   "cell_type": "code",
   "execution_count": 6,
   "metadata": {},
   "outputs": [
    {
     "name": "stdout",
     "output_type": "stream",
     "text": [
      "正樣本:546, 負樣本:2083\n"
     ]
    }
   ],
   "source": [
    "label = pd.concat([pos.assign(label=1)[['label']], neg.assign(label=0)[['label']]])\n",
    "stats = Counter(label['label'])\n",
    "print('正樣本:{}, 負樣本:{}'.format(stats[1.0], stats[0.0]))"
   ]
  },
  {
   "cell_type": "code",
   "execution_count": 7,
   "metadata": {},
   "outputs": [
    {
     "name": "stdout",
     "output_type": "stream",
     "text": [
      "==================================================\n",
      "Eccentrical aneurysma of the aortic arch.$Aneurysm of ascending aorta.$Marked atherosclerosis.$Coronary heart disease.\n",
      "==================================================\n",
      "Post-operative change, Fusiform aortic aneurysm in thoracic descending aorta, without significant interval change.\n",
      "==================================================\n",
      "1. A tiny perifissural nodule adjacent to minor fissure in RUL of lung.$2. Mild aneurysmal dilatation of ascending aorta. Atherosclerosis and coronary artery disease.$3. Gallbladder stones.$4. Degenerative change of the spine with marginal spur formation. $$Measurement of pulmonary solid nodule is based on RECIST 1.1, the largest diameter in an axial plane. RECIST: Response Evaluation Criteria in Solid Tumors$$If solid nodules or ground-glass nodules and semisolid nodules equal to or more than 6 mm, suggest further evaluation in chest outpatient clinic.$If infiltrated lesion or any mass lesions suspicious for malignancy, please reevaluate the lesion at the chest or chest surgical outpatient clinic.$$Remarks: A majority of the nodules less than 8 mm, detected by low dose CT scan, may not be cancer. However, to exclude any possibility of malignancy, we recommend that (1) a complete evaluation by the chest specialist and/or (2) a follow-up study based on personal risk factors. \n",
      "==================================================\n",
      "1. Thoracic descending aortic aneurysm, s/p stent graft. No endoleak. $2. Small fusiform aneurysms at the infrarenal aorta (4.4 cm in diameter), and right common iliac artery. No interval change.\n",
      "==================================================\n",
      "Mycotic aneurysm of lower abdominal aorta, S/P- stent-graft deployment.\n",
      "==================================================\n",
      "1. Aneurysm of the aortic root and proximal ascending aorta.$2. CAD and atherosclerosis.$3. post-operative change with MVP.$4. gall bladder stones.$4. suspected parenchymal liver disease .Suggest correlation with ultrasound findings. $5. lumbar spondylosis and scoliosis with compression fracture at L1.\n",
      "==================================================\n",
      "Mycotic pseudoaneurysm over infrarenal abdominal aorta, s/p endografting. $No evidence of contrast leakage. $$Suggest clinical correlation and follow up. $$\n",
      "==================================================\n",
      "1. Aortic aneurysm at aortic arch and descending aorta and infrarenal aorta with mural thrombus.$2. Suspected acute cholecystitis.$3. Alveolar pattern in dependant part of bilateral lungs. Suspected pneumonia.$4. Cardiomegaly with enlarged RV and RA. Pulmonary hypertension.\n",
      "==================================================\n",
      "1. Contusional hypodermal hemorrhage at the presternal region.$2. No acute bone fracture.$3. Osteoporosis and spondylosis of cervical spine and thoracolumbar spine with chronic burt fracture in T5 and mild old compression fractures in T7,  T11, T12, L1, L4 and L5  vertebrae. $4. Cardiomegaly and suspected hypertensive cardiovascular disease. $5. Atherosclerosis of aorta and multiple coronary arteries -- consistent with coronary arterial disease. $6. A short small fusiform aneurysm at infrarenal aorta. \n",
      "==================================================\n",
      "Aneurysm of ascending aorta to arch, S/P- Bentall's operation with 3 chimeny grafts to The innominate, left common carotid, and left subclavian arteries.$Presence of back-flow of contrast medium to the aneurysmal sac from the distal enchore point of the stent.$Atherosclerosis with CAD.  Left ventricular aneurysm.$Mild ectasia of abdominal aorta and extending down to the iliac arteries.\n",
      "==================================================\n",
      "1. s/p grafting at ascending aorta.$2. aortic aneurysm at aortic root, aortic arch and descending thoracic aorta.$3. CAD and atherosclerosis.$4. gall bladder stones.$5. left renal angiomyolipoma.$6. suspected adenoma of right adrenal gland.\n",
      "==================================================\n",
      "> Mycotic aneurysm in abdominal aorta status post stenting of abdominal aorta and bilateral iliac arteries. Nearly complete thrombosis of aneurysm. Minimal type 2 endoleak from inferior mesenteric artery. (Se/Im: 4/75)$> Coronary atherosclerosis. $> ESRD status post double lumen catheter insertion. $> Liver cirrhosis. $> Gallstones. $> Subsegmental atelectasis in RLL.$> Small amount of bilateral pleural effusion.$\n",
      "==================================================\n",
      "Lung cancer, RLL.  T4N3M0 or 1.$Aortic aneurysms at the arch and abdominal aorta.$Coronary heart disease.\n",
      "==================================================\n",
      "- Still perigraft pseudoaneurysm at the aortic root without significant interval change as compared with previous CT on 2012-7-28, suggest ECG-gated CT for follow up and further evaluation to rule out periprosthetic leakage or aortic graft perforation.$\n",
      "==================================================\n",
      "(1) Compatible with tetralogy of Fallot and marked aortopulmonary shunts can be found in the thoracic arch and descending aorta.$(2) Aneurysmal dilatation of the ascending aorta, 5.3 cm in diameter, is noted.\n",
      "==================================================\n",
      "1. Aneurysm of ascending aorta.$2. Cardiomegaly.\n",
      "==================================================\n",
      "1. Suspect COPD with superimposed infection. $2. Remarkable cardiomegaly. CAD. $3. Aortic aneurysm, involvng ascending and thoracic aorta.$4. compression fracture at T12.$Advise clinical correlations.\n",
      "==================================================\n",
      "1. Dilated ascending aorta with 4.0cm diameter, ascending aortic aneurysm is suspected.$2. Focal hypodense fluid accumulation in the AP window.$\n",
      "==================================================\n",
      "1. Fusiform aortic aneurysm at AsAo.$2. Atherosclerosis, tortuous aorta and CAD.$3. Stationary tiny lung noduel at lateral RLL.$4. Gall bladder stones.$5. s/p total hysterectomy.\n",
      "==================================================\n",
      "> Mild to moderate pericardial effusion.$> Aneurysmal dilatation of ascending aorta, about 7.2 cm in maximal axial diameter. $> R/O Nodular goiter. $> Gallstones. \n",
      "==================================================\n",
      "* Suspect an aneurysm in the aortic arch. (Se/Im:2/19) $* Atherosclerosis with wall calcification of the aorta and coronary arteries.$* A ground-glass opacity in the RUL. (Se/Im:401/15) Suggest follow-up. $* Visible small lymph nodes in the mediastinum.$* Cholelithiasis.$* A dystrophic calcification in the S5 of the liver.\n",
      "==================================================\n",
      "* Probable hypertensive or/and atherosclerotic cardiovascular disease. Coronary artery some calcified plaques.$* Probable chronic lung disease pattern.$* Small focal opacified change at RUL anterolateral basal subpleural lung, probable inflammatory change sequela.$* RLL and LLL peribronchial lung infiltrate, bronchitis and probable bronchiectasis.$* Rt lower subpleural lung probable interstitial lung pneumonia.$* Nodular lesions noted at RML and RLL, nature to be determined. Keep continuous follow-up, please.$* Shrunken gallbladder, containing a stone.$* Renal stones at Rt kidney, vascular calficiations superimposed.$* Enlarged prostate gland, containing calcification.$* Aneurysmal dilatation at lower abdominal aorta.\n",
      "==================================================\n",
      "* Cardiomegaly. Chronic lung disease pattern. R/O inflammatory excerbation and pneumonia.$* Superimposed RML mass lesion (primary neoplasm vs metastasis) never to be excluded. Clinically correlate, please.$* Cardiopumonary congestive or/and edematous status. Bilateral pleural effusion. Pericardial effusion.$* No significant mediastinal or hilar lymphadenopathy observed.$* Rt transverse colon cancer with liver metastasis. Inapparent change in comparison with 2013/03/07 CT series.$* A small gallbladder stone present.$* Metastatic retroperitoneal lymphadenopathy never to be excluded.$* An aortic aneurysm inferiorly abutting the Lt renal artery orifice, containing thrombus.$* T12 compressed fracture.\n",
      "==================================================\n",
      "1. Right-sided aorta associated with atherosclerosis, Kemmeral aneurysm and aberrant left subclavian artery. $2, Atherosclerosis of multiple coronary arteries -- coronary arterial disease. $3. Cardiomegaly. $4. Stenosis of the proximal superior mesenteric artery with atherosclerosis. $5. Diffuse centrilobular emphyema in both lungs.$5. A hepatic cyst and bilateral renal cysts.\n",
      "==================================================\n",
      "> Aneurysm of the aortic arch, s/p graft stenting, Chimney stent to LCCA, periscope stent to LSCA. Well opacificaiton of stent graft and LCCA and LSCA noted. No definite evidence of endoleak.$> Old MI, s/p CABG. Enhancement in coronary arteries noted.$> Aneurysmal dilatation of lower abdominal aorta, 4.7 * 4.3 cm in maximal diameter, slightly increased in size.$> Atherosclerosis with mural thrombus and calcification at proximal SMA.\n",
      "==================================================\n",
      "> Regression of IMH and enlarged aortic aneurysm at distal aortic arch.$\n",
      "==================================================\n",
      "(1) Aneurysmal dilatation of the ascending aorta, 4.3 cm.$(2) Aortic valve calcification.$(3) Atherosclerotic change with diffuse mural calcifications is noted in the aorta and visceral arteries. \n",
      "==================================================\n",
      "Bicuspid aortic valve with aortic root aneurysm (6.2-cm in the greatest diameter), size in stationary.\n",
      "==================================================\n",
      "> Status post low anterior resection(LAR) appearance. No definite local recurrence. No definite paraaortic nor mesenteric lymphadenopathy. $> Status post loop transverse colostomy with parastomal hernia.$> Aneurysmal dilatation of aortic root. (5-cm in the greatest diameter)$$\n",
      "==================================================\n",
      "> A 1.5-cm nodule in the upper outer quadrant of left breast, compatible with malignancy.$> Aneurysmal dilatation of ascending aorta.$> A 1.5-cm hemangioma in S7 of liver.\n",
      "==================================================\n",
      "* Aneurysmal dilatation of ascending aorta, 4.4 cm of diameter.$* Preserved both lung clearness.$* Renal cysts at both kidneys.$* A left hepatic cyst.$\n",
      "==================================================\n",
      "(1) Subsegmental atelectasis in the lingular segment. Areas of ground-glass opacity in the right lower lobe.$(2) Aneurysmal dilatation of the ascending aorta.\n",
      "==================================================\n",
      "Slight  aneurysmal dilatation of the aortic arch, stationary.\n",
      "==================================================\n",
      "> Regression of IMH and enlarged aortic aneurysm at distal aortic arch.$\n",
      "==================================================\n",
      "1. Suspected pneumonia and partial atelectases in RLL and LLL of lungs. $2. Bilateral pleural effusions. $3. Three benign calcified nodules or granulomas present in RUL, RLL  and LLL respectively. $4. Fusiform aneurysm of the ascending aorta. $5. Cardiomegaly with enlargement of left ventricle. $6. Spondylosis of thoracolumbar spine.\n",
      "==================================================\n",
      "* Cardiomegaly. Probable hypertensive cardiovascular disease.$* Aneurysm of aortic arch, with aortic arch to distal descending thoracic aorta stenting graft material implanted. Artificial vascular reconstruction for Lt subclavian artery with root arising from descending aorta stenting graft. No significant leakage noted.$* Also anuerysm at thoraco-abdominal junctional zone aorta, around 3.3 cm of diameter.$* Probable COPD pattern. Otherwise, non-specific lung findings.$* Rt thyroid gland loculated cystic lesion. DDx dominant follicular cyst vs cystic neoplasm. Clinically correlate, please.$* Tiny renal cysts at Lt kidney.$* Phleboliths at pelvic cavity.$* Calcified injection granulomata around bilateral buttocks.$* Degenerative spondylosis and osteoporosis. T6, T7, T12 ~ L5 compression fractures. L3 and L4 vertebroplasty with densely hyperattenuated bone cement tamponade.\n",
      "==================================================\n",
      "Aneurysmal dilatation of ascending aorta, about 6.9 cm in maximal axial diameter. $No focal pulmonary lesions are noted. $Bilateral renal stones. $$Suggest clinical correlation.\n",
      "==================================================\n",
      "> Right 4-6th or rib fracture.$> Ascending aorta aneurysmal dilation. $\n",
      "==================================================\n",
      "1. Dilated LV and LA with valvular calcifications as well as  aneurysmal dilatation of ascending aorta.  Possibly heart failure.$2. A 3.3-cm hypodense lesion in right thyroid gland, suggest sonography correlation.$3. Mild emphysematous change of bilateral lungs and hazziness of bilateral basal lungs. $4. Ventral hernia over anterior lower abdomen.\n",
      "==================================================\n",
      "> S/p stent placement in descending thoracic aorta. A small amount of contrast medium opacification outer to the stent at proximal end.$> Visible contrast medium enhancement of the aneurysm or pseudoaneurysm at descending aorta during venous phase. Type 2 endoleak was suggested.$> Calcifications in mitral valve, aortic valve, coronary vessels and aorta.\n",
      "==================================================\n",
      "> Aneurysmal dilation of ascending aorta. (5cm in diameter).$> Atherosclerosis with mural calcification of all three coronary arteries. $\n",
      "==================================================\n",
      "1. Fusiform aneurysms at the ascending portion and the arch porton of aorta. $2. Bilateral massive pleural effusions associated with partial passive atelectases of RLL and LLL of lungs. $3. Atherosclerosis of aorta and some coronary arteries. $4. Cardiomegaly. $5. Severe osteoarthritis of the visible thoracolumbar spine.\n",
      "==================================================\n",
      "> Fusiform aneurysm with mural thrombus at ascending aorta to aortic arch, 5.8 cm in maximal diameter. No obvious interval change.$> A small penetrating ulcer at distal aortic arch cannot be ruled out (Ser/Img: 3/18-20).$> Occlusion of infrarenal abdominal aorta below IMA orifice, extending to bilateral CIA, IIA and EIA. Leriche syndrome was suggested.$> Occlusion of right superficial femoral artery.$> Luminal stenosis of celiac trunk and IMA orifice and proximal SMA.$> Calcifications in coronary arteries and aorta.$> Clustered nodular infiltration in RUL and superior segment of RLL of lung. inflammatory/ infectious process should be considered. Suggest follow up.\n",
      "==================================================\n",
      "(1) A 1.8-mm pleural nodule in the LUL of lung and a 4.6-mm subpleural nodule in the RUL of lung.$(2) Aneurysmal dilatation of the ascending aorta about 4.7 cm in diameter.$$$$If solid nodules = or > 4mm or ground-glass nodules or semisolid nodules = or > 5mm, suggest further evaluation in chest clinic.$If spiculated lesiosn or any mass lesions suspicious for malignancy, please evaluate in chest or chest surgical clinic.$$Remarks: A majority of the nodules less than 8 mm detected by this imaging modality are not cancer. However, to exclude any possibility of malignancy, we recommend that (1) have a complete evaluation with the chest specialist and/or (2) have a follow-up study in 3-6 months, based on personal risk factors.$$References:$1. Heber MacMahon et. al. Guidelines for Management of Small Pulmonary Nodules Detected on CT Scans: A Statement from the Fleischner Society. Radiology 2005;237:395-400.$2. Stephen J. Swensen et. al. Lung cancer screening with CT: Mayo clinic experience. Radiology 2003;226:756-761.\n",
      "==================================================\n",
      "Atherosclerosis and CAD.$S/P- aortic valve replacement.$Aneurysmal dilatation of aortic arch.$Suspicious of hepatic chronic parenchymal disorder.\n",
      "==================================================\n",
      "1) Status post thoracotomy with wire fixation for grafting in the ascending aorta and aortic valve replacement. $    Small amount of fluid collection surrounding the ascending aorta. Suspect seroma or chronic hematoma.$     Recommend follow-up.  $2) Persistent aneurysmal dilatation of the aortic arch, maximal diameter about 5.9 cm.  $3) Mild bilateral apical pleural thickening.\n",
      "==================================================\n",
      "1. Ascending aortic aneurysm (max. diameter 6.3cm) with a tear into innominate artery which is debranched.$2. Status post endografting of thoracic aorta and left subclavian artery which are well opacified.\n",
      "==================================================\n",
      "Mycotic aneurysm of upper abdominal aorta, S/P- stent-graft deployment and an vascular graft to bridge the celiac trunk.\n",
      "==================================================\n",
      "Thoracic aortic aneurysm in aortic arch status post aortic stenting and TAE. $No obvious endoleak and stationary of persistent anerysmal sac.\n",
      "==================================================\n",
      "* Probable hypertensive or/and atherosclerotic cardiovascular disease.$* Thoracic aorta thick and irregular mural thrombus or/and atheroma deposition.$* An aneurysm arising from descending thoracic aorta. Adjacent lung passive atelectasis and focal bronchiectasis change.$* No significant evidences of DAA or pulmonary embolism noted.$* Chronic lung disease and COPD pattern.$* LLL posterior basal lung some inflammatory change sequela.$* A gallbladder stone present.$* Probable a unilocular cyst at pancreatic tail.$* Tiny cysts at both kidney corteces.\n"
     ]
    }
   ],
   "source": [
    "samples = pos.sample(50)\n",
    "for row in samples['IMPRESSIONS']:\n",
    "    print('='*50)\n",
    "    print(row)"
   ]
  },
  {
   "cell_type": "code",
   "execution_count": 8,
   "metadata": {},
   "outputs": [],
   "source": [
    "label.to_csv(os.path.join('data', file_name))"
   ]
  },
  {
   "cell_type": "markdown",
   "metadata": {},
   "source": [
    "# Concat the aortic_dissection and thoracic aortic_aneurysm"
   ]
  },
  {
   "cell_type": "code",
   "execution_count": 9,
   "metadata": {},
   "outputs": [],
   "source": [
    "dissection = pd.read_csv('data/nlp_dissection_ct.csv', index_col=0)"
   ]
  },
  {
   "cell_type": "code",
   "execution_count": 10,
   "metadata": {},
   "outputs": [
    {
     "data": {
      "text/plain": [
       "Counter({False: 3352})"
      ]
     },
     "execution_count": 10,
     "metadata": {},
     "output_type": "execute_result"
    }
   ],
   "source": [
    "Counter(label.index.duplicated())\n",
    "Counter(dissection.index.duplicated())"
   ]
  },
  {
   "cell_type": "code",
   "execution_count": 11,
   "metadata": {},
   "outputs": [],
   "source": [
    "taa_dissection = pd.concat([label, dissection])"
   ]
  },
  {
   "cell_type": "code",
   "execution_count": 12,
   "metadata": {},
   "outputs": [],
   "source": [
    "taa_dissection = taa_dissection.reset_index().drop_duplicates('ACCNO').set_index('ACCNO')"
   ]
  },
  {
   "cell_type": "code",
   "execution_count": 13,
   "metadata": {},
   "outputs": [
    {
     "data": {
      "text/plain": [
       "Counter({1: 1809, 0: 2083})"
      ]
     },
     "execution_count": 13,
     "metadata": {},
     "output_type": "execute_result"
    }
   ],
   "source": [
    "Counter(taa_dissection['label'])"
   ]
  },
  {
   "cell_type": "code",
   "execution_count": 14,
   "metadata": {},
   "outputs": [],
   "source": [
    "taa_dissection.to_csv('data/nlp_joined_dissection_aneurysm.csv')"
   ]
  },
  {
   "cell_type": "code",
   "execution_count": 15,
   "metadata": {},
   "outputs": [
    {
     "name": "stdout",
     "output_type": "stream",
     "text": [
      "正樣本:1809, 負樣本:2083\n"
     ]
    }
   ],
   "source": [
    "stats = Counter(taa_dissection['label'])\n",
    "print('正樣本:{}, 負樣本:{}'.format(stats[1.0], stats[0.0]))"
   ]
  },
  {
   "cell_type": "code",
   "execution_count": null,
   "metadata": {},
   "outputs": [],
   "source": []
  }
 ],
 "metadata": {
  "kernelspec": {
   "display_name": "Python 3",
   "language": "python",
   "name": "python3"
  },
  "language_info": {
   "codemirror_mode": {
    "name": "ipython",
    "version": 3
   },
   "file_extension": ".py",
   "mimetype": "text/x-python",
   "name": "python",
   "nbconvert_exporter": "python",
   "pygments_lexer": "ipython3",
   "version": "3.6.1"
  }
 },
 "nbformat": 4,
 "nbformat_minor": 2
}
