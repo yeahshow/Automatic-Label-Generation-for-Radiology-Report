{
 "cells": [
  {
   "cell_type": "markdown",
   "metadata": {},
   "source": [
    "# 建立小資集\n",
    "\n",
    "我們不需要時時處理全部的資料集，可以建立一個比較小(10,000筆)的資料集，方便攜帶、處理。"
   ]
  },
  {
   "cell_type": "code",
   "execution_count": 1,
   "metadata": {},
   "outputs": [],
   "source": [
    "import os\n",
    "import shutil\n",
    "import pandas as pd \n",
    "\n",
    "from config import FULL_DATASTORE, DATASTORE"
   ]
  },
  {
   "cell_type": "markdown",
   "metadata": {},
   "source": [
    "# Save '母體資料庫 53萬.xlsx' into hdf5 format on the local drive"
   ]
  },
  {
   "cell_type": "code",
   "execution_count": 2,
   "metadata": {
    "scrolled": false
   },
   "outputs": [
    {
     "name": "stderr",
     "output_type": "stream",
     "text": [
      "/Users/jeroyang/.local/share/virtualenvs/qrabbit-nlp-2666-b4E/lib/python3.6/site-packages/pandas/core/generic.py:1996: PerformanceWarning: \n",
      "your performance may suffer as PyTables will pickle object types that it cannot\n",
      "map directly to c-types [inferred_type->mixed-integer,key->block2_values] [items->['EXAMDATE', 'EXAMNAME', 'PATID', 'ORDERFROM', 'ORDERDEPT', 'WARD', 'CONFIRMDR', 'BODYPART', 'MACHINEID', 'FINDINGS', 'IMPRESSIONS']]\n",
      "\n",
      "  return pytables.to_hdf(path_or_buf, key, self, **kwargs)\n"
     ]
    }
   ],
   "source": [
    "femh = pd.read_excel(os.path.join(FULL_DATASTORE, '母體資料庫 53萬.xlsx'))\n",
    "femh = femh.drop_duplicates('ACCNO').set_index('ACCNO') # Remove duplicated data, why there are duplicated data? I don't know\n",
    "femh.to_hdf(os.path.join(DATASTORE, 'store.h5'), '/femh')"
   ]
  },
  {
   "cell_type": "markdown",
   "metadata": {},
   "source": [
    "# Sampling from femh"
   ]
  },
  {
   "cell_type": "code",
   "execution_count": 3,
   "metadata": {},
   "outputs": [],
   "source": [
    "subset = femh.sample(10000, random_state=0)\n",
    "subset = subset.fillna('')\n",
    "subset.to_hdf(os.path.join(DATASTORE, 'store.h5'), '/subset')"
   ]
  },
  {
   "cell_type": "markdown",
   "metadata": {},
   "source": [
    "# Copy the images of subset into the local drive"
   ]
  },
  {
   "cell_type": "code",
   "execution_count": 4,
   "metadata": {},
   "outputs": [],
   "source": [
    "os.makedirs(os.path.join(DATASTORE, 'subset'), exist_ok=True)\n",
    "for accno in subset.index:\n",
    "    src = os.path.join(FULL_DATASTORE, 'Dicom 50w', '{}.png'.format(accno))\n",
    "    dst = os.path.join(DATASTORE, 'subset', '{}.png'.format(accno))\n",
    "    shutil.copyfile(src, dst)"
   ]
  },
  {
   "cell_type": "markdown",
   "metadata": {},
   "source": [
    "# Save Chest CT 母體new2 2012-20180620.csv to HDFstore"
   ]
  },
  {
   "cell_type": "code",
   "execution_count": 5,
   "metadata": {},
   "outputs": [],
   "source": [
    "femh_ct = pd.read_csv(os.path.join(FULL_DATASTORE, 'Chest CT 母體new2 2012-20180620.csv'), index_col=0, encoding='cp950')\n",
    "femh_ct = femh_ct.fillna('')"
   ]
  },
  {
   "cell_type": "code",
   "execution_count": 6,
   "metadata": {},
   "outputs": [
    {
     "name": "stderr",
     "output_type": "stream",
     "text": [
      "/Users/jeroyang/.local/share/virtualenvs/qrabbit-nlp-2666-b4E/lib/python3.6/site-packages/pandas/core/generic.py:1996: PerformanceWarning: \n",
      "your performance may suffer as PyTables will pickle object types that it cannot\n",
      "map directly to c-types [inferred_type->mixed,key->block1_values] [items->['EXAMDATE', 'EXAMNAME', 'PATID', 'ORDERFROM', 'ORDERDEPT', 'WARD', 'CONFIRMDR', 'BODYPART', 'MACHINEID', 'FINDINGS', 'IMPRESSIONS']]\n",
      "\n",
      "  return pytables.to_hdf(path_or_buf, key, self, **kwargs)\n"
     ]
    }
   ],
   "source": [
    "femh_ct.to_hdf(os.path.join(DATASTORE, 'store.h5'), '/femh_ct')"
   ]
  },
  {
   "cell_type": "markdown",
   "metadata": {},
   "source": [
    "# Sampling from CT reports"
   ]
  },
  {
   "cell_type": "code",
   "execution_count": 7,
   "metadata": {},
   "outputs": [],
   "source": [
    "subset_ct = femh_ct.sample(5000)\n",
    "subset_ct.to_hdf(os.path.join(DATASTORE, 'store.h5'), '/subset_ct')"
   ]
  },
  {
   "cell_type": "code",
   "execution_count": null,
   "metadata": {},
   "outputs": [],
   "source": []
  }
 ],
 "metadata": {
  "kernelspec": {
   "display_name": "Python 3",
   "language": "python",
   "name": "python3"
  },
  "language_info": {
   "codemirror_mode": {
    "name": "ipython",
    "version": 3
   },
   "file_extension": ".py",
   "mimetype": "text/x-python",
   "name": "python",
   "nbconvert_exporter": "python",
   "pygments_lexer": "ipython3",
   "version": "3.7.0"
  }
 },
 "nbformat": 4,
 "nbformat_minor": 2
}
