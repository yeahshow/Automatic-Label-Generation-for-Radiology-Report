{
 "cells": [
  {
   "cell_type": "code",
   "execution_count": null,
   "metadata": {},
   "outputs": [],
   "source": [
    "import re\n",
    "import numpy as np\n",
    "import pandas as pd\n",
    "\n",
    "import nltk\n",
    "nltk.download('stopwords')\n",
    "from nltk.corpus import stopwords\n",
    "from nltk.stem import SnowballStemmer"
   ]
  },
  {
   "cell_type": "code",
   "execution_count": null,
   "metadata": {},
   "outputs": [],
   "source": [
    "#read out part of the dataset\n",
    "\n",
    "sample_size = 0.1\n",
    "\n",
    "df_raw = pd.read_csv('data//CXR report DB.csv').sample(frac=sample_size)\n"
   ]
  },
  {
   "cell_type": "code",
   "execution_count": null,
   "metadata": {},
   "outputs": [],
   "source": [
    "df_raw.shape"
   ]
  },
  {
   "cell_type": "code",
   "execution_count": null,
   "metadata": {},
   "outputs": [],
   "source": [
    "def text_clean_up(text, remove_stopwords = False, stem_words = False):\n",
    "    \n",
    "    ## Convert words to lower case\n",
    "    text = str(text).lower()\n",
    "    \n",
    "    ## Remove puncuation and replace common abbreviations\n",
    "    text = re.sub('s/p','status post',text)\n",
    "    text = re.sub('r/o','rule out',text)\n",
    "    text = re.sub('r/i','rule in',text)\n",
    "    text = re.sub('-','',text)\n",
    "    text = re.sub(r'[^\\w\\s]',' ',text)\n",
    "    text = text.lower().split()\n",
    "    \n",
    "    # Optionally, remove stop words\n",
    "    if remove_stopwords:\n",
    "        stops = set(stopwords.words(\"english\"))\n",
    "        text = [w for w in text if not w in stops]\n",
    "    \n",
    "    text = \" \".join(text)\n",
    "    \n",
    "    # Optionally, shorten words to their stems\n",
    "    if stem_words:\n",
    "        text = text.split()\n",
    "\n",
    "        snowball = SnowballStemmer('porter')\n",
    "        \n",
    "        stemmed_words = [snowball.stem(word) for word in text]\n",
    "        text = \" \".join(stemmed_words)\n",
    "\n",
    "    return text"
   ]
  },
  {
   "cell_type": "code",
   "execution_count": null,
   "metadata": {},
   "outputs": [],
   "source": [
    "acc = df_raw['ACCNO'].values\n",
    "findings = df_raw['FINDINGS'].map(lambda x: text_clean_up(x)).values + ' ' + df_raw['IMPRESSIONS'].map(lambda x: text_clean_up(x)).values\n",
    "\n",
    "df_report_only = pd.DataFrame({'ACCNO':acc,'Report': findings})\n"
   ]
  },
  {
   "cell_type": "code",
   "execution_count": null,
   "metadata": {},
   "outputs": [],
   "source": [
    "num_samples = 5\n",
    "\n",
    "for i in np.random.randint(df_raw.shape[0], size=num_samples):\n",
    "    print('\\n\\n--------------Original Text-------------------\\n')\n",
    "    print(df_raw.iloc[[i],[15]].values)\n",
    "\n",
    "    print('\\n\\n--------------Processed Text-------------------\\n')\n",
    "    print(df_report_only.iloc[[i],[1]].values)\n",
    "    "
   ]
  },
  {
   "cell_type": "code",
   "execution_count": null,
   "metadata": {},
   "outputs": [],
   "source": [
    "df_filtered = df_report_only[df_report_only['Report'].str.contains('effusion')]\n",
    "\n",
    "print(df_filtered.shape)\n",
    "\n",
    "num_samples = 10\n",
    "\n",
    "for i in np.random.randint(df_filtered.shape[0], size=num_samples):\n",
    "\n",
    "    print('\\n\\n')\n",
    "    print(df_filtered.iloc[[i],[1]].values)"
   ]
  },
  {
   "cell_type": "code",
   "execution_count": null,
   "metadata": {},
   "outputs": [],
   "source": [
    "def text_tokenizing(text):\n",
    "    \n",
    "    return text"
   ]
  },
  {
   "cell_type": "code",
   "execution_count": null,
   "metadata": {},
   "outputs": [],
   "source": []
  }
 ],
 "metadata": {
  "kernelspec": {
   "display_name": "Python 3",
   "language": "python",
   "name": "python3"
  },
  "language_info": {
   "codemirror_mode": {
    "name": "ipython",
    "version": 3
   },
   "file_extension": ".py",
   "mimetype": "text/x-python",
   "name": "python",
   "nbconvert_exporter": "python",
   "pygments_lexer": "ipython3",
   "version": "3.7.0"
  }
 },
 "nbformat": 4,
 "nbformat_minor": 2
}
