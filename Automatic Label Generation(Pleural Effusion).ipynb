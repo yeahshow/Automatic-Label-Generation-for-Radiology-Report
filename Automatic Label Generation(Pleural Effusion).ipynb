{
 "cells": [
  {
   "cell_type": "code",
   "execution_count": 1,
   "metadata": {},
   "outputs": [],
   "source": [
    "import re\n",
    "import numpy as np\n",
    "import pandas as pd\n",
    "\n",
    "import nltk\n",
    "from nltk import *"
   ]
  },
  {
   "cell_type": "code",
   "execution_count": 2,
   "metadata": {},
   "outputs": [],
   "source": [
    "#read out the CXR report dataset csv file\n",
    "\n",
    "df_raw = pd.read_csv('data//CXR report DB.csv').sample(frac=1)\n"
   ]
  },
  {
   "cell_type": "code",
   "execution_count": 3,
   "metadata": {},
   "outputs": [
    {
     "data": {
      "text/plain": [
       "(65499, 17)"
      ]
     },
     "execution_count": 3,
     "metadata": {},
     "output_type": "execute_result"
    }
   ],
   "source": [
    "df_raw.shape"
   ]
  },
  {
   "cell_type": "code",
   "execution_count": 9,
   "metadata": {},
   "outputs": [],
   "source": [
    "def text_clean_up(text, remove_stopwords = False, stem_words = False, lemmatization= True):\n",
    "    \n",
    "    ## Convert words to lower case\n",
    "\n",
    "    text = str(text).lower()\n",
    "    \n",
    "    ## Remove puncuation and replace common abbreviations\n",
    "    text = re.sub('s/p','status post',text)\n",
    "    text = re.sub('r/o','rule out',text)\n",
    "    text = re.sub('r/i','rule in',text)\n",
    "    text = re.sub('f/u','follow up',text)\n",
    "    text = re.sub('-','',text)\n",
    "    text = re.sub(r'[^a-zA-Z0-9_]',' ',text)\n",
    "    text = text.split()\n",
    "    \n",
    "    # Optionally, remove stop words\n",
    "    if remove_stopwords:\n",
    "        \n",
    "        stops = set(stopwords.words(\"english\"))\n",
    "        \n",
    "        text = [w for w in text if not w in stops]\n",
    "        \n",
    "        text = \" \".join(text)\n",
    "    \n",
    "    # Optionally, shorten words to their stems\n",
    "    if stem_words:\n",
    "        \n",
    "        snowball = SnowballStemmer(\"english\", ignore_stopwords=True)\n",
    "        \n",
    "        stemmed_words = [snowball.stem(word) for word in text]\n",
    "        \n",
    "        text = \" \".join(stemmed_words)\n",
    "        \n",
    "    # WordNet lemmatizer only removes affixes if the resulting word is in its dictionary    \n",
    "    if lemmatization:\n",
    "        \n",
    "        lemmatizer = nltk.WordNetLemmatizer()        \n",
    "        \n",
    "        lemmatized_words = [lemmatizer.lemmatize(word) for word in text]\n",
    "        \n",
    "        text = \" \".join(lemmatized_words)\n",
    "\n",
    "    return text"
   ]
  },
  {
   "cell_type": "code",
   "execution_count": 10,
   "metadata": {},
   "outputs": [],
   "source": [
    "acc = df_raw['ACCNO'].values\n",
    "findings = df_raw['FINDINGS'].map(lambda x: text_clean_up(x)).values\n",
    "PE_labels = np.zeros(findings.shape[0],dtype = int)\n",
    "\n",
    "df_report_only = pd.DataFrame({'ACCNO':acc,'Report': findings,'PE Label': PE_labels})"
   ]
  },
  {
   "cell_type": "code",
   "execution_count": 11,
   "metadata": {},
   "outputs": [
    {
     "name": "stdout",
     "output_type": "stream",
     "text": [
      "\n",
      " Word count of the complete report text corpus: 1781523\n",
      "\n",
      " Vocabulary count of the complete report text corpus: 3839\n",
      "\n",
      " Lexical diversity (Lexical richness of the text) : \n",
      " 0.002154897803733098\n",
      "\n",
      " 50 most common vocabs: \n",
      "\n",
      " [('no', 91124), ('lung', 66732), ('is', 64943), ('the', 62874), ('normal', 61349), ('and', 57010), ('chest', 55201), ('size', 53875), ('heart', 52352), ('show', 50917), ('of', 44921), ('definite', 44333), ('pa', 42365), ('noted', 40104), ('lesion', 39913), ('in', 38367), ('bilateral', 32443), ('abnormal', 29289), ('are', 28438), ('change', 21341), ('view', 21095), ('intact', 20367), ('angle', 18394), ('field', 18175), ('thoracic', 17462), ('cage', 16607), ('clear', 16550), ('active', 15388), ('mediastinum', 14296), ('or', 13519), ('sharp', 12564), ('shadow', 11804), ('both', 11111), ('bony', 11017), ('within', 10612), ('limit', 10560), ('right', 10540), ('generally', 10535), ('with', 10221), ('pleural', 9803), ('costophrenic', 9751), ('erect', 9598), ('contour', 9585), ('evidence', 8738), ('left', 8689), ('cp', 8618), ('cxr', 7849), ('post', 7792), ('ap', 7789), ('status', 7714)] \n"
     ]
    }
   ],
   "source": [
    "#Analyze the whole report text corpus (just exploratory not helpful in this task I believe)\n",
    "\n",
    "report_corpus = nltk.Text(\" \".join(findings).split())\n",
    "\n",
    "total_vocab_count = len(set(report_corpus))\n",
    "\n",
    "lexical_diversity = len(set(report_corpus)) / len(report_corpus)\n",
    "\n",
    "freq_rank = 50\n",
    "\n",
    "print(\"\\n Word count of the complete report text corpus: {}\"\n",
    "      .format(len(report_corpus)))\n",
    "\n",
    "print(\"\\n Vocabulary count of the complete report text corpus: {}\"\n",
    "      .format(total_vocab_count))\n",
    "\n",
    "print(\"\\n Lexical diversity (Lexical richness of the text) : \\n {}\"\n",
    "      .format(lexical_diversity))\n",
    "\n",
    "print(\"\\n {} most common vocabs: \\n\\n {} \"\n",
    "      .format(freq_rank, FreqDist(report_corpus).most_common(freq_rank)))"
   ]
  },
  {
   "cell_type": "code",
   "execution_count": 14,
   "metadata": {},
   "outputs": [
    {
     "name": "stdout",
     "output_type": "stream",
     "text": [
      "heart size; lung lesion; thoracic cage; abnormal change; normal heart;\n",
      "lung field; definite abnormal; generally intact; soft tissue; status\n",
      "post; costophrenic angle; active lung; definite lung; tissue shadow;\n",
      "normal limit; within normal; erect chest; free air; bony thorax;\n",
      "subphrenic free; pleural effusion; abnormal contour; pleural\n",
      "thickening; nonspecific finding; bilateral lung; increased\n",
      "infiltrates; mottled opacity; view show; radiographic evidence;\n",
      "significant pleural; bilateral costophrenic; noted chest; midline\n",
      "without; without compression; field bilateral; cxr show; chest xray;\n",
      "taken nonspecific; cardiac size; mediastinal shape; intact bony; lower\n",
      "lung; hilar architecture; show increased; regular chest; chest\n",
      "routine; mild scoliosis; clinical manifestation; lung marking; intact\n",
      "chest\n"
     ]
    }
   ],
   "source": [
    "report_corpus.collocations(freq_rank)"
   ]
  },
  {
   "cell_type": "code",
   "execution_count": 15,
   "metadata": {},
   "outputs": [
    {
     "name": "stdout",
     "output_type": "stream",
     "text": [
      "\n",
      "\n",
      "--------------Original Report Text 59808 -------------------\n",
      "\n",
      "[['Chest  PA  shows increased infiltrates with mottled opacities in$both lung fields.   Heart is normal in size.          ']]\n",
      "\n",
      "\n",
      "--------------Processed Report Text 59808 -------------------\n",
      "\n",
      "[['chest pa show increased infiltrates with mottled opacity in both lung field heart is normal in size']]\n",
      "\n",
      "\n",
      "--------------Original Report Text 50925 -------------------\n",
      "\n",
      "[['Erect chest PA view shows:$The heart size is normal.$No abnormal contour or soft tissue shadow is noted in the mediastinum.$No significant pleural thickening or abnormal shadows is noted in the bilateral lung fields.$Bilateral CP angles are clear and sharp.$The thoracic cage and bones are generally intact. ']]\n",
      "\n",
      "\n",
      "--------------Processed Report Text 50925 -------------------\n",
      "\n",
      "[['erect chest pa view show the heart size is normal no abnormal contour or soft tissue shadow is noted in the mediastinum no significant pleural thickening or abnormal shadow is noted in the bilateral lung field bilateral cp angle are clear and sharp the thoracic cage and bone are generally intact']]\n",
      "\n",
      "\n",
      "--------------Original Report Text 5860 -------------------\n",
      "\n",
      "[['Chest  PA   shows no definite lung lesion and normal heart  size.   $No definite abnormal change is noted.$']]\n",
      "\n",
      "\n",
      "--------------Processed Report Text 5860 -------------------\n",
      "\n",
      "[['chest pa show no definite lung lesion and normal heart size no definite abnormal change is noted']]\n",
      "\n",
      "\n",
      "--------------Original Report Text 7659 -------------------\n",
      "\n",
      "[['Chest film shows mild bronchiolitis with perihilar infiltrates and hyperinflation of both lungs together with normal heart size. ']]\n",
      "\n",
      "\n",
      "--------------Processed Report Text 7659 -------------------\n",
      "\n",
      "[['chest film show mild bronchiolitis with perihilar infiltrates and hyperinflation of both lung together with normal heart size']]\n",
      "\n",
      "\n",
      "--------------Original Report Text 62826 -------------------\n",
      "\n",
      "[['Chest  PA shows no definite lung lesion and normal heart  size.   $No definite abnormal change is noted.$$$$$$$$$']]\n",
      "\n",
      "\n",
      "--------------Processed Report Text 62826 -------------------\n",
      "\n",
      "[['chest pa show no definite lung lesion and normal heart size no definite abnormal change is noted']]\n",
      "\n",
      "\n",
      "--------------Original Report Text 59819 -------------------\n",
      "\n",
      "[['Erect chest PA view was taken:$* Non-specific finding is noted in the bilateral lung fields.$* The heart size is within normal limit.$* Mild scoliosis of the T-L spine convexing to left side. ']]\n",
      "\n",
      "\n",
      "--------------Processed Report Text 59819 -------------------\n",
      "\n",
      "[['erect chest pa view wa taken nonspecific finding is noted in the bilateral lung field the heart size is within normal limit mild scoliosis of the tl spine convexing to left side']]\n",
      "\n",
      "\n",
      "--------------Original Report Text 49809 -------------------\n",
      "\n",
      "[[' Chest  PA  shows increased infiltrates with mottled opacities in$both lung fields.   Heart is normal in size.       ']]\n",
      "\n",
      "\n",
      "--------------Processed Report Text 49809 -------------------\n",
      "\n",
      "[['chest pa show increased infiltrates with mottled opacity in both lung field heart is normal in size']]\n",
      "\n",
      "\n",
      "--------------Original Report Text 23890 -------------------\n",
      "\n",
      "[['Chest PA shows no definite lung lesion and normal heart $size.   No definite abnormal change is noted.']]\n",
      "\n",
      "\n",
      "--------------Processed Report Text 23890 -------------------\n",
      "\n",
      "[['chest pa show no definite lung lesion and normal heart size no definite abnormal change is noted']]\n",
      "\n",
      "\n",
      "--------------Original Report Text 63641 -------------------\n",
      "\n",
      "[['Chest PA shows no definite lung lesion and normal heart $size.   No definite abnormal change is noted.']]\n",
      "\n",
      "\n",
      "--------------Processed Report Text 63641 -------------------\n",
      "\n",
      "[['chest pa show no definite lung lesion and normal heart size no definite abnormal change is noted']]\n",
      "\n",
      "\n",
      "--------------Original Report Text 3227 -------------------\n",
      "\n",
      "[['Chest AP shows no definite lung lesion and normal heart  size.  $No definite abnormal change is noted.']]\n",
      "\n",
      "\n",
      "--------------Processed Report Text 3227 -------------------\n",
      "\n",
      "[['chest ap show no definite lung lesion and normal heart size no definite abnormal change is noted']]\n"
     ]
    }
   ],
   "source": [
    "num_samples = 10\n",
    "\n",
    "for i in np.random.randint(df_raw.shape[0], size=num_samples):\n",
    "    print('\\n\\n--------------Original Report Text ' + str(i) + ' -------------------\\n')\n",
    "    print(df_raw.iloc[[i],[15]].values)\n",
    "\n",
    "    print('\\n\\n--------------Processed Report Text ' + str(i) + ' -------------------\\n')\n",
    "    print(df_report_only.iloc[[i],[1]].values)\n",
    "    "
   ]
  },
  {
   "cell_type": "code",
   "execution_count": 16,
   "metadata": {},
   "outputs": [
    {
     "name": "stdout",
     "output_type": "stream",
     "text": [
      "Sample counts after applying filter: 269\n"
     ]
    },
    {
     "name": "stderr",
     "output_type": "stream",
     "text": [
      "/Users/yenchou/anaconda3/lib/python3.7/site-packages/ipykernel_launcher.py:5: SettingWithCopyWarning: \n",
      "A value is trying to be set on a copy of a slice from a DataFrame.\n",
      "Try using .loc[row_indexer,col_indexer] = value instead\n",
      "\n",
      "See the caveats in the documentation: http://pandas.pydata.org/pandas-docs/stable/indexing.html#indexing-view-versus-copy\n",
      "  \"\"\"\n"
     ]
    }
   ],
   "source": [
    "# String search for 'blunt' and label all of them positive for pleural effusion\n",
    "\n",
    "df_blunt = df_report_only[df_report_only['Report'].str.contains('blunt')]\n",
    "\n",
    "df_blunt['PE Label'] = 1\n",
    "\n",
    "print('Sample counts after applying filter: {}'.format(df_blunt.shape[0]))"
   ]
  },
  {
   "cell_type": "code",
   "execution_count": 17,
   "metadata": {},
   "outputs": [
    {
     "name": "stdout",
     "output_type": "stream",
     "text": [
      "Sample counts after applying filter: 12558\n"
     ]
    },
    {
     "name": "stderr",
     "output_type": "stream",
     "text": [
      "/Users/yenchou/anaconda3/lib/python3.7/site-packages/ipykernel_launcher.py:5: SettingWithCopyWarning: \n",
      "A value is trying to be set on a copy of a slice from a DataFrame.\n",
      "Try using .loc[row_indexer,col_indexer] = value instead\n",
      "\n",
      "See the caveats in the documentation: http://pandas.pydata.org/pandas-docs/stable/indexing.html#indexing-view-versus-copy\n",
      "  \"\"\"\n"
     ]
    }
   ],
   "source": [
    "# String search for 'sharp' and label all of them negative for pleural effusion\n",
    "\n",
    "df_sharp = df_report_only[df_report_only['Report'].str.contains('sharp')]\n",
    "\n",
    "df_sharp['PE Label'] = 0\n",
    "\n",
    "print('Sample counts after applying filter: {}'.format(df_sharp.shape[0]))"
   ]
  },
  {
   "cell_type": "code",
   "execution_count": 18,
   "metadata": {},
   "outputs": [
    {
     "data": {
      "text/plain": [
       "[('no evidence of pleural effusion', 2798),\n",
       " ('no apparent pleural effusion', 870),\n",
       " ('no obvious pleural effusion', 86),\n",
       " ('no significant pleural effusion', 39),\n",
       " ('no pleural effusion', 21),\n",
       " ('no cardiomegaly mild pleural effusion', 21),\n",
       " ('no prominent pleural effusion', 5),\n",
       " ('no definite pleural effusion', 3),\n",
       " ('no cardiomegaly minimal pleural effusion', 2),\n",
       " ('no cardiomegaly moderate pleural effusion', 2),\n",
       " ('no visible left pleural effusion', 2),\n",
       " ('no obvious left pleural effusion', 1),\n",
       " ('no significant of pleural effusion', 1)]"
      ]
     },
     "execution_count": 18,
     "metadata": {},
     "output_type": "execute_result"
    }
   ],
   "source": [
    "# Search for most common patterns of negative description regarding pleural effusion in our current text corpus\n",
    "\n",
    "PE_neg_match = TokenSearcher(report_corpus).findall(r'<no><.*>{,2}<pleural><effusion>')\n",
    "\n",
    "PE_neg_phrase = [\" \".join(phrase) for phrase in PE_neg_match]\n",
    "\n",
    "FreqDist(PE_neg_phrase).most_common()"
   ]
  },
  {
   "cell_type": "code",
   "execution_count": 19,
   "metadata": {},
   "outputs": [
    {
     "name": "stdout",
     "output_type": "stream",
     "text": [
      "Sample counts after applying filter: 3814\n"
     ]
    },
    {
     "name": "stderr",
     "output_type": "stream",
     "text": [
      "/Users/yenchou/anaconda3/lib/python3.7/site-packages/ipykernel_launcher.py:9: SettingWithCopyWarning: \n",
      "A value is trying to be set on a copy of a slice from a DataFrame.\n",
      "Try using .loc[row_indexer,col_indexer] = value instead\n",
      "\n",
      "See the caveats in the documentation: http://pandas.pydata.org/pandas-docs/stable/indexing.html#indexing-view-versus-copy\n",
      "  if __name__ == '__main__':\n"
     ]
    }
   ],
   "source": [
    "# Filtered text corpus for negative descriptions most commonly used, extracting and labelling negative pleural effusion cases with high confidence\n",
    "\n",
    "PE_neg_keyword = ['no evidence of pleural effusion','no apparent pleural effusion','no obvious pleural effusion','no significant pleural effusion','no pleural effusion']\n",
    "\n",
    "pat = \"|\".join(PE_neg_keyword)\n",
    "\n",
    "df_PE_neg = df_report_only[df_report_only['Report'].str.contains(pat)]\n",
    "\n",
    "df_PE_neg['PE Label'] = 0\n",
    "\n",
    "print('Sample counts after applying filter: {}'.format(df_PE_neg.shape[0]))"
   ]
  },
  {
   "cell_type": "code",
   "execution_count": 20,
   "metadata": {},
   "outputs": [
    {
     "name": "stdout",
     "output_type": "stream",
     "text": [
      "Sample counts after applying filter: 855\n"
     ]
    },
    {
     "name": "stderr",
     "output_type": "stream",
     "text": [
      "/Users/yenchou/anaconda3/lib/python3.7/site-packages/ipykernel_launcher.py:5: SettingWithCopyWarning: \n",
      "A value is trying to be set on a copy of a slice from a DataFrame.\n",
      "Try using .loc[row_indexer,col_indexer] = value instead\n",
      "\n",
      "See the caveats in the documentation: http://pandas.pydata.org/pandas-docs/stable/indexing.html#indexing-view-versus-copy\n",
      "  \"\"\"\n"
     ]
    }
   ],
   "source": [
    "# Removing negative reports from all the 'pleural effusion' containing reports, and label the remaining cases positive for pleural effusion\n",
    "\n",
    "df_PE_pos = df_report_only[df_report_only['Report'].str.contains('effusion') & ~(df_report_only['Report'].str.contains(pat))]\n",
    "\n",
    "df_PE_pos['PE Label'] = 1\n",
    "\n",
    "print('Sample counts after applying filter: {}'.format(df_PE_pos.shape[0]))"
   ]
  },
  {
   "cell_type": "code",
   "execution_count": 21,
   "metadata": {},
   "outputs": [
    {
     "name": "stdout",
     "output_type": "stream",
     "text": [
      "\n",
      "\n",
      "[['chest pa view wa taken status post pigtail insertion in right hemithorax with small amount of pneumothorax right pleural effusion a soft tissue mass in the right chest wall near the pigtail tube advise clinical correlation post operative change of rul no cardiomegaly']]\n",
      "\n",
      "\n",
      "[['film of portable chest ap supine bronchopneumonitis over both lung pneumonia with pleural effusion over right side post chest intubation are showed']]\n",
      "\n",
      "\n",
      "[['follow up supine cxr show persistent right pleural effusion with increased transverse cardiac diameter suggestive of pericardial effusion the left lung is clear']]\n",
      "\n",
      "\n",
      "[['chest pa view show normal heart size left pleural effusion and subsegmental atelectasis at lll']]\n",
      "\n",
      "\n",
      "[['chest xray film show normal cardiac size infiltrate at left basal lung with mild left pleural effusion suggest correlation with clinical manifestation']]\n",
      "\n",
      "\n",
      "[['supine chest ap view wa taken status post central venous line insertion via the right side with it tip in the aorta suspected increased alveolar infiltrate are noted in the left upper and middle lung zone left pleural effusion and interstitial pattern in the left lung zone increased attenuation in the luq of the abdomen the heart size is within normal limit recommend follow up']]\n",
      "\n",
      "\n",
      "[['chest pa view no cardiomegaly bilateral pedicle of vertebra were normal in appearance large amount of right side pleural effusion nature to be determined suggest clinical correlation']]\n",
      "\n",
      "\n",
      "[['chest pa view show massive right pleural effusion postoperative appearance of bilateral apical lung mild left shift of the mediastinum scoliosis of thoracic and lumbar spine']]\n",
      "\n",
      "\n",
      "[['borderline heart size normal range of mediastinal width and hilar architecture supine position exaggerated bronchovascular marking hazy hilar vasculature increased pulmonary vascularity probable cardiopulmonary congestive edematous status probable pleural effusion present preserved bilateral upper and apical lung clearness ett inserted proper position ngt retained']]\n",
      "\n",
      "\n",
      "[['supine chest ap view wa taken status post central venous line insertion via the right side with it tip in the bilateral pleural effusion suggested enlarged cardiac silhouette is noted']]\n"
     ]
    }
   ],
   "source": [
    "for i in np.random.randint(df_PE_pos.shape[0], size=num_samples):\n",
    "    print('\\n')\n",
    "    print(df_PE_pos.iloc[[i],[1]].values)\n"
   ]
  },
  {
   "cell_type": "code",
   "execution_count": 22,
   "metadata": {},
   "outputs": [],
   "source": [
    "df_output = df_blunt.append([df_PE_pos, df_sharp,df_PE_neg])\n",
    "\n",
    "df_output.to_csv('Pleural Effusion List(labels generated by reports)')"
   ]
  },
  {
   "cell_type": "code",
   "execution_count": null,
   "metadata": {},
   "outputs": [],
   "source": []
  }
 ],
 "metadata": {
  "kernelspec": {
   "display_name": "Python 3",
   "language": "python",
   "name": "python3"
  },
  "language_info": {
   "codemirror_mode": {
    "name": "ipython",
    "version": 3
   },
   "file_extension": ".py",
   "mimetype": "text/x-python",
   "name": "python",
   "nbconvert_exporter": "python",
   "pygments_lexer": "ipython3",
   "version": "3.7.0"
  }
 },
 "nbformat": 4,
 "nbformat_minor": 2
}
